{
 "cells": [
  {
   "cell_type": "markdown",
   "id": "d0226690-6ead-4b0d-b765-e4118f439578",
   "metadata": {},
   "source": [
    "<center>\n",
    "    \n",
    "<img src=\"peace_symbol.jpeg\" alt=\"Descripción de la imagen\" style=\"width:30%;\">\n",
    "\n",
    "    \n",
    "#  **University - Coding(c++) Course**\n",
    "    \n",
    "    Author: Carlos Andrés Rodallega Millán\n",
    "    Year: 2021 (This notebook was created in 2025)\n",
    "    Institución: University of Valle\n",
    "    Correo: rodallega.carlos@correounivalle.edu.co "
   ]
  },
  {
   "cell_type": "markdown",
   "id": "59e996ec-ccf6-4d3f-bb11-d18a6a9233d4",
   "metadata": {},
   "source": [
    "Everything here is the resume of the calculation given in the course. However, as a complement of the material, I've added información given in the bibliography such as:\n",
    "\n",
    "  -**Chapter 1: Basic Manual**\n",
    "  \n",
    "  -**Coding Cap 1.**\n",
    "  \n",
    "  -**Coding Cap 2.**\n",
    "  \n",
    "  -**Coding Cap 3.**\n",
    "\n",
    "I could sent you the files upon request."
   ]
  },
  {
   "cell_type": "markdown",
   "id": "59aef818-5775-4fbd-858b-7e1d1b18f170",
   "metadata": {},
   "source": [
    "## Chapter 1: Basic Manual\n",
    "\n",
    "Here was the first time that I learned phyton, it was time ago (almost 4 years). However, it is still avaible (and I will die and be still avaible...), for me, it is important to created this notebook. Maybe in the future I will need it, could be a quick review of the concepts or a preparation for a couse teaching.\n",
    "\n",
    "C++ can be seen as de son of the C language. The difference between is regarding to some core and instrisic functions. If you are able to learn C, it will be esay to change to C++.\n",
    "\n",
    "Everything can be done with C++ and a little be of crativity, even the objects oriented coding. What's matter to me, as a physicst, is use C++ for a high resource cientific programming tool. There is two importans remawks about C++.\n",
    "\n",
    "1) Fast.\n",
    "    Same language structure (C).\n",
    "    Only one compilation time. Any runs.\n",
    "\n",
    "2) Use properly the computer resource los recursos del computador (ÓTIMAMENTE).\n",
    "    Low level language.\n",
    "    Close to machine language.\n",
    "\n",
    "Los lenguajes se dividen den dos categorías.\n",
    "\n",
    "Alto Nivel\n",
    "Bajo Nivel\n",
    "\n",
    "A su vez, estos se dividen en los que hacen sus instrucciones de dos formas:\n",
    "\n",
    "-En vivo. Lenguajes Interpretados. (Necesitan un interprete). Necesitan instalados el programa(Interprete, correr cada vez).\n",
    "\tMathematica\n",
    "\tPhyton\n",
    "\tMatlab\n",
    "\n",
    "\n",
    "\n",
    "\n",
    "-Paso intermedio. Lenguajes compilados. (Solo necesitan el compilador para correr, este paso solo se realiza una vez).\n",
    "\n",
    "--------------------------------------------\n",
    "\n",
    "Paso 1. Escribir código (Lenguaje de programación). En lo que más nos vamos a centrar el resto de semestre.\n",
    "Como resultado, tendremos un archivo fuente(.C .c .cpp). Mandar el programa es mandar el archivo fuente. Aquí usamos .cpp"
   ]
  },
  {
   "cell_type": "markdown",
   "id": "e45f184f-5bf5-4c2a-b223-994ec77b3f76",
   "metadata": {},
   "source": [
    "### First Code:\n",
    "\n",
    "As it is normal in the programming courses, the first step done in C++ is learning how to print in the terminal the words \"Hello word\". Below we have el code  for it:\n",
    "\n",
    "\n",
    "```c++\n",
    "// Estos es un comentario. // Para comentar usamos doble slash.\n",
    "// Para hacer grandes comentarios utilizamos /* para abrir y */\n",
    "//-------Librerias------------\n",
    "#include<iostream>  // Escribir o leer informacion de la terminal (Lectura y escritura de la pantalla).\n",
    "#include<fstream>  // Lectura y escritura en archivo. \n",
    "using namespace std; //name space estandar. Evitar escritura larga.\n",
    "\n",
    "int main (){\n",
    "  cout<<\"Hola mundo!\"<<endl;\n",
    "  return 0;\n",
    "}\n",
    "\n",
    "```\n",
    "\n",
    "This code give us as a result:\n",
    "```\n",
    "Hola mundo!\n",
    "```\n",
    "    "
   ]
  },
  {
   "cell_type": "code",
   "execution_count": null,
   "id": "4c649e52-67fc-478a-b8e4-ef8d87221db9",
   "metadata": {},
   "outputs": [],
   "source": []
  }
 ],
 "metadata": {
  "kernelspec": {
   "display_name": "Python 3 (ipykernel)",
   "language": "python",
   "name": "python3"
  },
  "language_info": {
   "codemirror_mode": {
    "name": "ipython",
    "version": 3
   },
   "file_extension": ".py",
   "mimetype": "text/x-python",
   "name": "python",
   "nbconvert_exporter": "python",
   "pygments_lexer": "ipython3",
   "version": "3.10.9"
  }
 },
 "nbformat": 4,
 "nbformat_minor": 5
}
